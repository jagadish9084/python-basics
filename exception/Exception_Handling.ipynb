{
  "nbformat": 4,
  "nbformat_minor": 0,
  "metadata": {
    "colab": {
      "provenance": [],
      "toc_visible": true,
      "authorship_tag": "ABX9TyMabPMqnbotBGpsycY51/rj",
      "include_colab_link": true
    },
    "kernelspec": {
      "name": "python3",
      "display_name": "Python 3"
    },
    "language_info": {
      "name": "python"
    }
  },
  "cells": [
    {
      "cell_type": "markdown",
      "metadata": {
        "id": "view-in-github",
        "colab_type": "text"
      },
      "source": [
        "<a href=\"https://colab.research.google.com/github/jagadish9084/python-basics/blob/main/exception/Exception_Handling.ipynb\" target=\"_parent\"><img src=\"https://colab.research.google.com/assets/colab-badge.svg\" alt=\"Open In Colab\"/></a>"
      ]
    },
    {
      "cell_type": "markdown",
      "source": [
        "# Exception and Exception Handling"
      ],
      "metadata": {
        "id": "3kMlxUPLqMLM"
      }
    },
    {
      "cell_type": "markdown",
      "source": [
        "## Overview:"
      ],
      "metadata": {
        "id": "LXDdxKKIqSjP"
      }
    },
    {
      "cell_type": "markdown",
      "source": [
        "### **Exceptions:**\n",
        "\n",
        "Exceptions are events that disrupt the normal flow of the program. They occurs when the erros are encountered during program execution.\n",
        "\n",
        "Example of exception:\n",
        "  - FileNotFoundError\n",
        "  - IndexError\n",
        "  - KeyError\n",
        "  - NameError"
      ],
      "metadata": {
        "id": "-mns4KhTqdaC"
      }
    },
    {
      "cell_type": "markdown",
      "source": [
        "### **Exception Handling:**\n",
        "Exception handling in python allow us to handle errors gracefull and take corrective action without stoping the execution of the program.\n",
        "\n",
        "Python uses a combination of **try**, **except**, **else**, and **finally** blocks to handle exceptions.\n",
        "\n"
      ],
      "metadata": {
        "id": "rqzfQzmlqzCM"
      }
    },
    {
      "cell_type": "markdown",
      "source": [
        "### Key Components:\n",
        "\n",
        "1. **try** : try block contains code that might raise an exception.\n",
        "2. **except** : except block used to handle specific or generic exceptions that occur in the try block.\n",
        "3. **else** : else block executes if no exceptions occur in the try block.\n",
        "4. **finally** : finally block executes regardless of whether an exception occurs or not. Typically used for cleanup operations."
      ],
      "metadata": {
        "id": "zQtrNRMLsPIk"
      }
    },
    {
      "cell_type": "markdown",
      "source": [
        "### Basic Syntax:"
      ],
      "metadata": {
        "id": "AMVeMFLatSsA"
      }
    },
    {
      "cell_type": "code",
      "source": [
        "try:\n",
        "    # Code that might raise an exception\n",
        "    1/0\n",
        "except ZeroDivisionError as e:\n",
        "    # Handle the specific exception\n",
        "    print(f\"An error occurred: {e}\")\n",
        "except Exception as e:\n",
        "    # Handle any exception\n",
        "    print(f\"General error: {e}\")\n",
        "else:\n",
        "    # Code to execute if no exception occurs\n",
        "    print(\"Operation successful.\")\n",
        "finally:\n",
        "    # Code to execute no matter what\n",
        "    print(\"Execution complete.\")"
      ],
      "metadata": {
        "colab": {
          "base_uri": "https://localhost:8080/"
        },
        "id": "lCVgN2qEtU6x",
        "outputId": "b85b0322-7c2f-4f33-a5e7-789704d01368"
      },
      "execution_count": 3,
      "outputs": [
        {
          "output_type": "stream",
          "name": "stdout",
          "text": [
            "An error occurred: division by zero\n",
            "Execution complete.\n"
          ]
        }
      ]
    },
    {
      "cell_type": "markdown",
      "source": [
        "### Examples"
      ],
      "metadata": {
        "id": "LdbQqf3XuOlU"
      }
    },
    {
      "cell_type": "markdown",
      "source": [
        "#### Handling Specific Exceptions"
      ],
      "metadata": {
        "id": "x_dvRla2yLlM"
      }
    },
    {
      "cell_type": "code",
      "source": [
        "# Handling Specific Exceptions\n",
        "try:\n",
        "  number = int(input(\"Enter a number\"))\n",
        "  print(f'Input number : {number}')\n",
        "except ValueError as e:\n",
        "  print(f\"Please enter a valid integer: {e}\")"
      ],
      "metadata": {
        "colab": {
          "base_uri": "https://localhost:8080/"
        },
        "id": "s29BAwQruTDt",
        "outputId": "d209f129-17d0-4013-8770-c335e68ff425"
      },
      "execution_count": 5,
      "outputs": [
        {
          "output_type": "stream",
          "name": "stdout",
          "text": [
            "Entire a numbera\n",
            "Please enter a valid integer: invalid literal for int() with base 10: 'a'\n"
          ]
        }
      ]
    },
    {
      "cell_type": "markdown",
      "source": [
        "#### Handling Multiple Exceptions\n"
      ],
      "metadata": {
        "id": "YraCZR5Yyagy"
      }
    },
    {
      "cell_type": "code",
      "source": [
        "# Handling Multiple Exceptions\n",
        "\n",
        "try:\n",
        "  number = int(input('Enter a number: '))\n",
        "  result = number / 0\n",
        "except ValueError as ve:\n",
        "  print(f\"Please enter a valid integer: {ve}\")\n",
        "except ZeroDivisionError as zde:\n",
        "  print(f\"You can not deivide a number by zero: {zde}\")"
      ],
      "metadata": {
        "colab": {
          "base_uri": "https://localhost:8080/"
        },
        "id": "z87K6StAvBNY",
        "outputId": "9c9fd3d4-f16d-409e-ec8e-4799c9cce006"
      },
      "execution_count": 9,
      "outputs": [
        {
          "output_type": "stream",
          "name": "stdout",
          "text": [
            "Enter a number: a\n",
            "Please enter a valid integer: invalid literal for int() with base 10: 'a'\n"
          ]
        }
      ]
    },
    {
      "cell_type": "markdown",
      "source": [
        "#### Execute else block if no exception"
      ],
      "metadata": {
        "id": "l97upILqyi-z"
      }
    },
    {
      "cell_type": "code",
      "source": [
        "# Handling Multiple Exceptions and Print result in else block if no exception\n",
        "\n",
        "try:\n",
        "  n1 = int(input(\"Enter first number: \"))\n",
        "  n2 = int(input(\"Enter first number: \"))\n",
        "  result = n1 / n2\n",
        "except ValueError as ve:\n",
        "  print(f\"Please enter a valid integer: {ve}\")\n",
        "except ZeroDivisionError as zde:\n",
        "  print(f\"You can not divide a number by 0: {zde}\")\n",
        "else:\n",
        "  print(f\"The result of the division is: {result}\")"
      ],
      "metadata": {
        "colab": {
          "base_uri": "https://localhost:8080/"
        },
        "id": "azRujS9Zvwih",
        "outputId": "7e17eceb-12cf-47da-e9f1-185b74c5bfe6"
      },
      "execution_count": 12,
      "outputs": [
        {
          "output_type": "stream",
          "name": "stdout",
          "text": [
            "Enter first number: a\n",
            "Please enter a valid integer: invalid literal for int() with base 10: 'a'\n"
          ]
        }
      ]
    },
    {
      "cell_type": "markdown",
      "source": [
        "#### Execute finally block ragardless of exception"
      ],
      "metadata": {
        "id": "eh-B2On0yuRG"
      }
    },
    {
      "cell_type": "code",
      "source": [
        "# Print total execution time in finally block\n",
        "import time\n",
        "\n",
        "start = time.process_time()\n",
        "\n",
        "try:\n",
        "  n1 = int(input(\"Enter first number: \"))\n",
        "  n2 = int(input(\"Enter first number: \"))\n",
        "  result = n1 / n2\n",
        "except ValueError as ve:\n",
        "  print(f\"Please enter a valid integer: {ve}\")\n",
        "except ZeroDivisionError as zde:\n",
        "  print(f\"You can not divide a number by 0: {zde}\")\n",
        "else:\n",
        "  print(f\"The result of the division is: {result}\")\n",
        "finally:\n",
        "  end = time.process_time()\n",
        "  print(f\"Total time take by the operation is : {end - start}\")"
      ],
      "metadata": {
        "colab": {
          "base_uri": "https://localhost:8080/"
        },
        "id": "qPPds5Caw7C_",
        "outputId": "affd7db0-3c54-4317-93b0-fca022492190"
      },
      "execution_count": 18,
      "outputs": [
        {
          "output_type": "stream",
          "name": "stdout",
          "text": [
            "Enter first number: 1\n",
            "Enter first number: 0\n",
            "You can not divide a number by 0: division by zero\n",
            "Total time take by the operation is : 0.08679513300000075\n"
          ]
        }
      ]
    },
    {
      "cell_type": "markdown",
      "source": [
        "#### Raise exception explicitly"
      ],
      "metadata": {
        "id": "QJFzlJQmy1e1"
      }
    },
    {
      "cell_type": "code",
      "source": [
        "# Raise value error if age is below 18\n",
        "\n",
        "try:\n",
        "  age = int(input(\"Please enter the valid age: \"))\n",
        "  if age < 18:\n",
        "    raise ValueError('Age must be 18')\n",
        "  else:\n",
        "    print('Given age is valid.')\n",
        "except ValueError as ve:\n",
        "  print(f\"Error: {ve}\")"
      ],
      "metadata": {
        "colab": {
          "base_uri": "https://localhost:8080/"
        },
        "id": "P3Hrshs6y_X9",
        "outputId": "ad8d3caf-da28-4f7d-8487-7e352c158a70"
      },
      "execution_count": 20,
      "outputs": [
        {
          "output_type": "stream",
          "name": "stdout",
          "text": [
            "Please enter the age: 21\n",
            "Given age is valid\n"
          ]
        }
      ]
    },
    {
      "cell_type": "markdown",
      "source": [
        "#### Custom Exception"
      ],
      "metadata": {
        "id": "WuDRxSUvzq_M"
      }
    },
    {
      "cell_type": "code",
      "source": [
        "# Create Custom Exception\n",
        "\n",
        "class InvalidAgeError(Exception):\n",
        "  pass\n",
        "\n",
        "try:\n",
        "  age = int(input(\"Please enter the valid age: \"))\n",
        "  if age < 18:\n",
        "    raise InvalidAgeError(f'Given age:{age} is not valid.')\n",
        "  else:\n",
        "    print(f'The given age : {age} is valid')\n",
        "except InvalidAgeError as iae:\n",
        "  print(f\"Error: {iae}\")"
      ],
      "metadata": {
        "colab": {
          "base_uri": "https://localhost:8080/"
        },
        "id": "hT2Fe8PVzx6O",
        "outputId": "04d28320-ed2d-400e-dc2e-23e10d167a42"
      },
      "execution_count": 21,
      "outputs": [
        {
          "output_type": "stream",
          "name": "stdout",
          "text": [
            "Please enter the valid age: 12\n",
            "Error: Given age:12 is not valid.\n"
          ]
        }
      ]
    },
    {
      "cell_type": "markdown",
      "source": [
        "### Best Practices"
      ],
      "metadata": {
        "id": "uvm7nn1C0xl0"
      }
    },
    {
      "cell_type": "markdown",
      "source": [
        "1. Catch Specific Exception:\n",
        "  - Avoid catching general exception unless necessary\n",
        "2. Use finally for clean up:\n",
        "  - ensure resource like file and database connection are closed properly using finally block\n",
        "3. Avoid Swallowing Exceptions:\n",
        "  - Always log or hanlde exception, dont silently pass.\n",
        "4. Raise Exception for invalid states:\n",
        "  - Use raise for clarity in unexpected situations."
      ],
      "metadata": {
        "id": "tDHunjTi03lE"
      }
    }
  ]
}