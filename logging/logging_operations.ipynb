{
  "nbformat": 4,
  "nbformat_minor": 0,
  "metadata": {
    "colab": {
      "provenance": [],
      "toc_visible": true,
      "authorship_tag": "ABX9TyPFLljJUyWUxx/i7PvWPbyk",
      "include_colab_link": true
    },
    "kernelspec": {
      "name": "python3",
      "display_name": "Python 3"
    },
    "language_info": {
      "name": "python"
    }
  },
  "cells": [
    {
      "cell_type": "markdown",
      "metadata": {
        "id": "view-in-github",
        "colab_type": "text"
      },
      "source": [
        "<a href=\"https://colab.research.google.com/github/jagadish9084/python-basics/blob/main/logging/logging_operations.ipynb\" target=\"_parent\"><img src=\"https://colab.research.google.com/assets/colab-badge.svg\" alt=\"Open In Colab\"/></a>"
      ]
    },
    {
      "cell_type": "markdown",
      "source": [
        "# Logging"
      ],
      "metadata": {
        "id": "qDoE1eqCKzr7"
      }
    },
    {
      "cell_type": "markdown",
      "source": [
        "## Overview"
      ],
      "metadata": {
        "id": "Vleg-mTqK251"
      }
    },
    {
      "cell_type": "markdown",
      "source": [
        "The logging module in Python is a standard library used for tracking events that happen when software runs. It helps developers record errors, warnings, and informational messages, making debugging and monitoring easier."
      ],
      "metadata": {
        "id": "rxoM54T_K83H"
      }
    },
    {
      "cell_type": "markdown",
      "source": [
        "## Key Features"
      ],
      "metadata": {
        "id": "SUwUTb3sLApE"
      }
    },
    {
      "cell_type": "markdown",
      "source": [
        "1. **Granularity**:\n",
        "  - Logs can have different severity levels (DEBUG, INFO, WARNING, ERROR, CRITICAL).\n",
        "2. **Persistence**:\n",
        "  - Logs can be stored in files or sent to external systems.\n",
        "3. **Control**:\n",
        "  - You can enable or disable logging without changing your code.\n",
        "4. **Thread Safety**:\n",
        "  - Logging is thread-safe, making it suitable for concurrent programs.\n",
        "5. **Extensible**:\n",
        "  - Allows creating custom logging levels, handlers, and filters.\n",
        "6. **Multiple Destinations**:\n",
        "  - Log messages to the console, files, remote servers, or custom streams.\n",
        "7. **Custom Handlers and Formatters**:\n",
        "  - Format log messages and send them to different outputs."
      ],
      "metadata": {
        "id": "slsr82DILFLQ"
      }
    },
    {
      "cell_type": "markdown",
      "source": [
        "The logging module provides an easy way to log messages."
      ],
      "metadata": {
        "id": "KVAIW7uyLnYH"
      }
    },
    {
      "cell_type": "markdown",
      "source": [
        "## Basic Components\n",
        "1. **Loggers**: Used to create log messages. Each logger has a name and a severity level.\n",
        "2. **Handlers**: Specify where log messages are sent (e.g., files, console, network).\n",
        "3. **Formatters**: Define the format of the log messages.\n",
        "4. **Filters**: Provide fine-grained control over which log records are passed to handlers."
      ],
      "metadata": {
        "id": "bq5FKBlyNU9t"
      }
    },
    {
      "cell_type": "markdown",
      "source": [
        "## Setting Up a Basic Logger"
      ],
      "metadata": {
        "id": "Nl5rgROsLikF"
      }
    },
    {
      "cell_type": "code",
      "source": [
        "import logging\n",
        "\n",
        "# Basic configuration\n",
        "logging.basicConfig(level=logging.DEBUG, force=True)\n",
        "logging.debug(\"This is a debug message\")\n",
        "logging.info(\"This is an info message\")\n",
        "logging.warning(\"This is a warning message\")\n",
        "logging.error(\"This is an error message\")\n",
        "logging.critical(\"This is a critical message\")\n"
      ],
      "metadata": {
        "colab": {
          "base_uri": "https://localhost:8080/"
        },
        "id": "2RI_5-PyLoAg",
        "outputId": "0e90fa63-b40e-45c1-d5a6-c9ecbc588a19"
      },
      "execution_count": 1,
      "outputs": [
        {
          "output_type": "stream",
          "name": "stderr",
          "text": [
            "DEBUG:root:This is a debug message\n",
            "INFO:root:This is an info message\n",
            "WARNING:root:This is a warning message\n",
            "ERROR:root:This is an error message\n",
            "CRITICAL:root:This is a critical message\n"
          ]
        }
      ]
    },
    {
      "cell_type": "markdown",
      "source": [
        "### Logging Levels\n",
        "\n",
        "| Level    | Value |Use case |\n",
        "|----------|----------|----------|\n",
        "| DEBUG    | 10    |Diagnostic information, useful for developers during debugging  |\n",
        "| INFO     | 20    | General operational messages indicating normal behavior.  |\n",
        "| WARNING  | 30    | An indication of potential issues, but the application continues to work.  |\n",
        "| ERROR    | 40    | A problem occurred; some functionality may be affected.  |\n",
        "| CRITICAL | 50    | A severe error; the application may not continue.  |\n",
        "\n",
        "\n",
        "\n",
        "**How Values Work in Filtering Log Messages:**\n",
        "  - The value determines the threshold for which log messages are displayed. When you configure the logging level, only messages with a level equal to or higher than the configured level will be logged."
      ],
      "metadata": {
        "id": "rRU2UIM8O2Uy"
      }
    },
    {
      "cell_type": "markdown",
      "source": [
        "### Example"
      ],
      "metadata": {
        "id": "FCdDogyKPUNZ"
      }
    },
    {
      "cell_type": "code",
      "source": [
        "import logging\n",
        "\n",
        "logging.basicConfig(level=logging.WARNING, force=True)  # Only WARNING, ERROR, and CRITICAL messages are logged\n",
        "\n",
        "logging.debug(\"Debug message\")   # Not shown\n",
        "logging.info(\"Info message\")     # Not shown\n",
        "logging.warning(\"Warning message\")  # Shown\n",
        "logging.error(\"Error message\")      # Shown\n",
        "logging.critical(\"Critical message\")  # Shown\n"
      ],
      "metadata": {
        "colab": {
          "base_uri": "https://localhost:8080/"
        },
        "id": "FGb5M57GQ4RB",
        "outputId": "9be543d7-a8e0-497f-de03-0899d02f0bc8"
      },
      "execution_count": 2,
      "outputs": [
        {
          "output_type": "stream",
          "name": "stderr",
          "text": [
            "WARNING:root:Warning message\n",
            "ERROR:root:Error message\n",
            "CRITICAL:root:Critical message\n"
          ]
        }
      ]
    },
    {
      "cell_type": "markdown",
      "source": [
        "## Advanced Configuration"
      ],
      "metadata": {
        "id": "hZc8VXT5S91O"
      }
    },
    {
      "cell_type": "markdown",
      "source": [
        "### Customizing Log Format\n",
        "\n",
        "The format parameter in logging.basicConfig allows you to structure log messages.\n",
        "\n",
        "There are 2 ways you can define custom log formatter."
      ],
      "metadata": {
        "id": "1EBu6IGsTAy8"
      }
    },
    {
      "cell_type": "code",
      "source": [
        "# Using basicConfig\n",
        "import logging\n",
        "\n",
        "logging.basicConfig(\n",
        "      level=logging.DEBUG,\n",
        "      force=True,\n",
        "      format=\"%(asctime)s - %(name)s - %(levelname)s - %(message)s\",\n",
        "      datefmt=\"%Y-%m-%m %H:%M:%S\"\n",
        "    )\n",
        "logging.info(\"Application started\")"
      ],
      "metadata": {
        "colab": {
          "base_uri": "https://localhost:8080/"
        },
        "id": "araHqCOJTJDW",
        "outputId": "d9d4ec24-7aa3-4acf-9a1f-fecbd46759b1"
      },
      "execution_count": 3,
      "outputs": [
        {
          "output_type": "stream",
          "name": "stderr",
          "text": [
            "2024-11-11 14:38:11 - root - INFO - Application started\n"
          ]
        }
      ]
    },
    {
      "cell_type": "code",
      "source": [
        "# Using formatter class\n",
        "import logging\n",
        "\n",
        "logging.Formatter(fmt=\"%(asctime)s - %(name)s - %(levelname)s - %(message)s\")"
      ],
      "metadata": {
        "colab": {
          "base_uri": "https://localhost:8080/"
        },
        "id": "svQzbrUPXisx",
        "outputId": "e62e7df1-e3bf-43e6-f1d9-06a830afdfc1"
      },
      "execution_count": 4,
      "outputs": [
        {
          "output_type": "execute_result",
          "data": {
            "text/plain": [
              "<logging.Formatter at 0x7d3a33213d30>"
            ]
          },
          "metadata": {},
          "execution_count": 4
        }
      ]
    },
    {
      "cell_type": "markdown",
      "source": [
        "### Format Placeholders\n",
        "\n",
        "| Placeholder   | Description |\n",
        "|---------------|-------------|\n",
        "| %(asctime)s   | Timestamp of the log.|\n",
        "| %(name)s      | Logger's name.       |\n",
        "| %(levelname)s | Severity level.      |\n",
        "| %(filename)s  | File where the log was generated.  |\n",
        "| %(lineno)d    | Line number in the source file.    |\n",
        "| %(funcName)s  | Function name from where the log originated.       |\n"
      ],
      "metadata": {
        "id": "VKz14fNGURXM"
      }
    },
    {
      "cell_type": "markdown",
      "source": [
        "## Logger"
      ],
      "metadata": {
        "id": "iddVnrt2Ep8F"
      }
    },
    {
      "cell_type": "markdown",
      "source": [
        "A logger is responsible for creating log records. You can:\n",
        "- Create multiple loggers for different modules.\n",
        "- Set levels to control the severity of messages logged."
      ],
      "metadata": {
        "id": "976mvx1nEtFl"
      }
    },
    {
      "cell_type": "markdown",
      "source": [
        "### Example"
      ],
      "metadata": {
        "id": "JT9oySgCGQSh"
      }
    },
    {
      "cell_type": "code",
      "source": [
        "# Create a Custom Logger:\n",
        "import logging\n",
        "\n",
        "logger = logging.getLogger(\"MyApp\")\n",
        "logger.setLevel(logging.DEBUG)\n",
        "\n",
        "logger.info(\"Info Message from MyApp\")\n",
        "logger.debug(\"Debug message from MyApp\")"
      ],
      "metadata": {
        "colab": {
          "base_uri": "https://localhost:8080/"
        },
        "id": "Vx4UUxAtE2g2",
        "outputId": "d9928c15-5564-4481-f149-5396afc05789"
      },
      "execution_count": 5,
      "outputs": [
        {
          "output_type": "stream",
          "name": "stderr",
          "text": [
            "2024-11-11 14:38:11 - MyApp - INFO - Info Message from MyApp\n",
            "2024-11-11 14:38:11 - MyApp - DEBUG - Debug message from MyApp\n"
          ]
        }
      ]
    },
    {
      "cell_type": "markdown",
      "source": [
        "## Handlers"
      ],
      "metadata": {
        "id": "-YHO3T6kFeDb"
      }
    },
    {
      "cell_type": "markdown",
      "source": [
        "A handler is responsible for determining where log messages should be sent. You can think of handlers as \"destinations\" for log messages.\n",
        "\n",
        "Handlers direct log messages to specific destinations (e.g., console, files, network).\n",
        "\n",
        "Common Handlers:\n",
        "\n",
        "1. StreamHandler: Logs to the console.\n",
        "2. FileHandler: Logs to a file.\n",
        "3. RotatingFileHandler: Logs to a file with rotation based on size.\n",
        "4. TimedRotatingFileHandler: Rotates logs at specific time intervals.\n",
        "5. SMTPHandler: Sends logs via email.\n",
        "6. HTTPHandler: Sends logs to a web server.\n",
        "\n",
        "Key Properties:\n",
        "1. Each logger can have multiple handlers.\n",
        "2. Handlers determine the format and the logging level for their destination independently of the logger."
      ],
      "metadata": {
        "id": "-ygXiC6rFf9R"
      }
    },
    {
      "cell_type": "code",
      "source": [
        "import logging\n",
        "\n",
        "# Create a logger\n",
        "logger = logging.getLogger(\"My-App-Logger\")\n",
        "logger.setLevel(logging.DEBUG)  # Set the logger level to DEBUG\n",
        "\n",
        "# By default, the root logger also writes to the console.\n",
        "# Adding a StreamHandler duplicates console output unless you disable propagation or properly configure the root logger.\n",
        "# Disable duplicate messages by setting logger.propagate = False\n",
        "logger.propagate = False\n",
        "\n",
        "# Google Colab re-runs the cell without resetting the environment,\n",
        "# and every time the code is executed, new handlers are being added to the logger without clearing the previously added handlers.\n",
        "# This results in duplicate or multiplying log messages being handled.\n",
        "# Clear existing handlers to avoid duplicate logs\n",
        "if logger.hasHandlers():\n",
        "    logger.handlers.clear()\n",
        "\n",
        "# Create console handler\n",
        "console_handler = logging.StreamHandler()\n",
        "console_handler.setLevel(logging.DEBUG)\n",
        "\n",
        "# Create file handler\n",
        "file_handler = logging.FileHandler(\"app.log\")\n",
        "file_handler.setLevel(logging.INFO)\n",
        "\n",
        "# Attach handlers to the logger\n",
        "logger.addHandler(console_handler)\n",
        "logger.addHandler(file_handler)\n",
        "\n",
        "# Log messages\n",
        "logger.debug(\"This is debug message. It will be logged in console only\")\n",
        "logger.info(\"This is info message. It will be logged in both console and file\")\n"
      ],
      "metadata": {
        "colab": {
          "base_uri": "https://localhost:8080/"
        },
        "id": "rzQtqVMWGUFF",
        "outputId": "33531b2e-6337-4382-bc7c-5753a8b42ce4"
      },
      "execution_count": 6,
      "outputs": [
        {
          "output_type": "stream",
          "name": "stderr",
          "text": [
            "This is debug message. It will be logged in console only\n",
            "This is info message. It will be logged in both console and file\n"
          ]
        }
      ]
    },
    {
      "cell_type": "markdown",
      "source": [
        "- The logger processes all messages at or above the DEBUG level.\n",
        "- The console_handler displays all DEBUG level messages to the console.\n",
        "- The file_handler writes all INFO level messages (and higher) to the file.\n",
        "- By default, the root logger also writes to the console.\n",
        "- Adding a StreamHandler duplicates console output unless you disable propagation or properly configure the root logger.\n",
        "- Disable duplicate messages by setting logger.propagate = False"
      ],
      "metadata": {
        "id": "P-q5j-A2Mp9q"
      }
    },
    {
      "cell_type": "markdown",
      "source": [
        "### Logging levels hierarchy:\n",
        "\n",
        "1. The logger's level acts as a global filter. If the logger's level is WARNING (the default), it filters out messages below WARNING, regardless of the handlers' levels.\n",
        "2. To ensure all messages at lower levels (like DEBUG or INFO) are processed, you must explicitly set the logger's level to the lowest level you want to log.\n",
        "\n",
        "**logger.propagate**:\n",
        "\n",
        "In Python's logging module, the propagate attribute of a logger determines whether the log messages are passed (or \"propagated\") to the handlers of the logger's ancestor loggers in the logging hierarchy.\n",
        "\n",
        "Key Points:\n",
        "\n",
        "1. Default Behavior (propagate=True):\n",
        "  - By default, a logger propagates log messages to its parent logger's handlers.\n",
        "  - This is useful when you want multiple loggers to use a common set of handlers defined at a higher level in the logger hierarchy.\n",
        "\n",
        "2. When propagate=False:\n",
        "  - If propagate is set to False, the logger will not forward messages to the handlers of ancestor loggers.\n",
        "  - Only the handlers directly attached to that logger will process the log messages."
      ],
      "metadata": {
        "id": "sQJdJ8h_LQlk"
      }
    },
    {
      "cell_type": "markdown",
      "source": [
        "## Formatters"
      ],
      "metadata": {
        "id": "DJVihcneOq_9"
      }
    },
    {
      "cell_type": "markdown",
      "source": [
        "Formatters define the layout of log messages."
      ],
      "metadata": {
        "id": "6ZF_rE6GOt63"
      }
    },
    {
      "cell_type": "code",
      "source": [
        "# Example\n",
        "\n",
        "formatter = logging.Formatter(\"%(asctime)s - %(name)s - %(levelname)s - %(message)s\")\n",
        "\n",
        "# Attache the formatter to the handler\n",
        "console_handler.setFormatter(formatter)\n",
        "file_handler.setFormatter(formatter)\n",
        "\n",
        "# Log message\n",
        "logger.info(\"Info message with formatted output\")"
      ],
      "metadata": {
        "colab": {
          "base_uri": "https://localhost:8080/"
        },
        "id": "S4nnykJYO0rd",
        "outputId": "4394dfea-6c9b-41a5-ca87-248e0672598e"
      },
      "execution_count": 7,
      "outputs": [
        {
          "output_type": "stream",
          "name": "stderr",
          "text": [
            "2024-11-30 14:38:11,243 - My-App-Logger - INFO - Info message with formatted output\n"
          ]
        }
      ]
    },
    {
      "cell_type": "markdown",
      "source": [
        "## Filter"
      ],
      "metadata": {
        "id": "teqssFJyRKb7"
      }
    },
    {
      "cell_type": "markdown",
      "source": [
        "A filter is responsible for determining whether a log message should be processed by a logger or handler. Filters allow for fine-grained control over which log messages are processed.\n",
        "\n",
        "Purpose:\n",
        "- To apply custom rules for filtering log messages.\n",
        "\n",
        "Where Filters Are Applied:\n",
        "- Can be applied to loggers or handlers.\n",
        "- Filters are called before the log message is passed to the handler or propagated further.\n",
        "\n",
        "How Filters Work:\n",
        "- A filter is a callable or an instance of a subclass of logging.Filter.\n",
        "- It must implement a filter(record) method that returns True (to allow) or False (to block)."
      ],
      "metadata": {
        "id": "bls0QoGoRQnj"
      }
    },
    {
      "cell_type": "code",
      "source": [
        "import logging\n",
        "\n",
        "#Create Custom Filter\n",
        "\n",
        "class CustomFilter(logging.Filter):\n",
        "  def filter(self, record):\n",
        "    return record.levelno >= logging.WARNING\n",
        "\n",
        "# Create Logger\n",
        "\n",
        "logger = logging.getLogger(\"FilterExampleLogger\")\n",
        "logger.setLevel(logging.DEBUG)\n",
        "\n",
        "# Disable the logger level message propogation\n",
        "logger.propagate = False\n",
        "console_handler = logging.StreamHandler()\n",
        "console_handler.setLevel(logging.DEBUG)\n",
        "\n",
        "# Attach Filter to the handler\n",
        "console_handler.addFilter(CustomFilter())\n",
        "\n",
        "# Attache handler to the logger\n",
        "logger.addHandler(console_handler)\n",
        "\n",
        "logger.debug(\"This is the message at debug level and this will be filtered out.\")\n",
        "logger.info(\"This is the message at info level. This will not be logged\")\n",
        "logger.warning(\"This is the message at warning level. This will be logged\")\n"
      ],
      "metadata": {
        "colab": {
          "base_uri": "https://localhost:8080/"
        },
        "id": "JHpHpYf_SC2a",
        "outputId": "2ee5d565-1c93-4335-d6aa-e642f90134fa"
      },
      "execution_count": 8,
      "outputs": [
        {
          "output_type": "stream",
          "name": "stderr",
          "text": [
            "This is the message at warning level. This will be logged\n"
          ]
        }
      ]
    },
    {
      "cell_type": "markdown",
      "source": [
        "## Logging Exceptions"
      ],
      "metadata": {
        "id": "US9yf2C3Y0-L"
      }
    },
    {
      "cell_type": "markdown",
      "source": [
        "Exceptions often carry critical information about the failure of a program. The logging module provides features to log these exceptions effectively, including traceback details.\n",
        "\n",
        "Why Log Exceptions?\n",
        "- To debug issues in production environments without exposing sensitive information to end-users.\n",
        "- To capture full traceback details, making it easier to pinpoint where and why the error occurred.\n",
        "\n"
      ],
      "metadata": {
        "id": "8JUkCTUnY5Ha"
      }
    },
    {
      "cell_type": "markdown",
      "source": [
        "### Logging Exceptions Using exc_info Parameter:\n",
        "  - Pass exc_info=True to include exception traceback in the log message.\n",
        "  - Works with any log level (e.g., error, critical).\n",
        "\n"
      ],
      "metadata": {
        "id": "DrEMFcknZNZi"
      }
    },
    {
      "cell_type": "code",
      "source": [
        "import logging\n",
        "\n",
        "logging.basicConfig(level=logging.ERROR, format=\"%(asctime)s - %(levelname)s - %(name)s - %(message)\")\n",
        "\n",
        "try:\n",
        "  1/0\n",
        "except ZeroDivisionError as zde:\n",
        "  logging.error(f\"Exception: {zde}\", exc_info=True)"
      ],
      "metadata": {
        "colab": {
          "base_uri": "https://localhost:8080/"
        },
        "id": "FQhvDRBrZvfv",
        "outputId": "e2978a97-b4ae-4f03-e196-924857218d3f"
      },
      "execution_count": 9,
      "outputs": [
        {
          "output_type": "stream",
          "name": "stderr",
          "text": [
            "2024-11-11 14:38:11 - root - ERROR - Exception: division by zero\n",
            "Traceback (most recent call last):\n",
            "  File \"<ipython-input-9-dd57ec68234b>\", line 6, in <cell line: 5>\n",
            "    1/0\n",
            "ZeroDivisionError: division by zero\n"
          ]
        }
      ]
    },
    {
      "cell_type": "markdown",
      "source": [
        "### Logging Exception using Us logging.exception\n",
        "\n",
        "- Shortcut for logging exceptions at the ERROR level.\n",
        "- Automatically includes the exception's traceback without needing exc_info."
      ],
      "metadata": {
        "id": "3Nt7CJWTa9oM"
      }
    },
    {
      "cell_type": "code",
      "source": [
        "import logging\n",
        "\n",
        "logging.basicConfig(level=logging.ERROR, format=\"%(asctime)s - %(levelname)s - %(name)s - %(message)\")\n",
        "\n",
        "try:\n",
        "  1/0\n",
        "except ZeroDivisionError as zde:\n",
        "  logging.exception(f\"Exception: {zde}\")"
      ],
      "metadata": {
        "colab": {
          "base_uri": "https://localhost:8080/"
        },
        "id": "OocYF3IobKVv",
        "outputId": "19497a6d-66cf-4aec-dd33-36f6c137c575"
      },
      "execution_count": 10,
      "outputs": [
        {
          "output_type": "stream",
          "name": "stderr",
          "text": [
            "2024-11-11 14:38:11 - root - ERROR - Exception: division by zero\n",
            "Traceback (most recent call last):\n",
            "  File \"<ipython-input-10-4dbb72888b36>\", line 6, in <cell line: 5>\n",
            "    1/0\n",
            "ZeroDivisionError: division by zero\n"
          ]
        }
      ]
    },
    {
      "cell_type": "markdown",
      "source": [
        "## Configuring Logging with logging.config"
      ],
      "metadata": {
        "id": "_sJNXZLxbn7M"
      }
    },
    {
      "cell_type": "markdown",
      "source": [
        "### Configuration with Dictionary (logging.config.dictConfig)\n",
        "You can define logging configurations in a dictionary and load them using"
      ],
      "metadata": {
        "id": "M_XhFEzzbqfT"
      }
    },
    {
      "cell_type": "code",
      "source": [
        "import logging\n",
        "import logging.config\n",
        "\n",
        "# Define logging configuration\n",
        "LOGGING_CONFIG = {\n",
        "    \"version\": 1,\n",
        "    \"disable_existing_loggers\": False,\n",
        "    \"formatters\": {\n",
        "        \"default\": {\n",
        "            \"format\": \"%(asctime)s - %(name)s - %(levelname)s - %(message)s\"\n",
        "        },\n",
        "        \"detailed\": {\n",
        "            \"format\": \"%(asctime)s - %(name)s - %(levelname)s - %(message)s - [%(filename)s:%(lineno)d]\"\n",
        "        },\n",
        "    },\n",
        "    \"handlers\": {\n",
        "        \"console\": {\n",
        "            \"class\": \"logging.StreamHandler\",\n",
        "            \"level\": \"DEBUG\",\n",
        "            \"formatter\": \"default\"\n",
        "        },\n",
        "        \"file\": {\n",
        "            \"class\": \"logging.FileHandler\",\n",
        "            \"level\": \"INFO\",\n",
        "            \"formatter\": \"detailed\",\n",
        "            \"filename\": \"app.log\"\n",
        "        },\n",
        "    },\n",
        "    \"loggers\": {\n",
        "        \"my_app\": {\n",
        "            \"level\": \"DEBUG\",\n",
        "            \"handlers\": [\"console\", \"file\"],\n",
        "            \"propagate\": False\n",
        "        }\n",
        "    },\n",
        "}\n",
        "\n",
        "# Apply configuration\n",
        "logging.config.dictConfig(LOGGING_CONFIG)\n",
        "\n",
        "# Get the logger\n",
        "logger = logging.getLogger(\"my_app\")\n",
        "\n",
        "# Log messages\n",
        "logger.debug(\"This is a debug message (console only)\")\n",
        "logger.info(\"This is an info message (console and file)\")\n",
        "logger.error(\"This is an error message (console and file)\")\n"
      ],
      "metadata": {
        "colab": {
          "base_uri": "https://localhost:8080/"
        },
        "id": "oqSZebs5b7S7",
        "outputId": "728ae16a-d868-4e6d-f71c-cab2c7ffa388"
      },
      "execution_count": 11,
      "outputs": [
        {
          "output_type": "stream",
          "name": "stderr",
          "text": [
            "2024-11-30 14:38:11,354 - my_app - DEBUG - This is a debug message (console only)\n",
            "2024-11-30 14:38:11,359 - my_app - INFO - This is an info message (console and file)\n",
            "2024-11-30 14:38:11,362 - my_app - ERROR - This is an error message (console and file)\n"
          ]
        }
      ]
    },
    {
      "cell_type": "markdown",
      "source": [
        "Explanation:\n",
        "\n",
        "1. version: Indicates the version of the logging configuration schema (must be 1).\n",
        "2. disable_existing_loggers: If True, disables all existing loggers.\n",
        "3. formatters: Defines the format of log messages.\n",
        "4. handlers: Configures where logs are sent (console, file, etc.) and their levels.\n",
        "5. loggers: Configures individual loggers, including their level and handlers."
      ],
      "metadata": {
        "id": "Gi4ToJZLcCdt"
      }
    },
    {
      "cell_type": "markdown",
      "source": [
        "### Configuration with File (logging.config.fileConfig)\n",
        "\n",
        "You can define logging configuration in an INI file and load it using logging.config.fileConfig.\n",
        "\n",
        "Configuration File (logging.conf):\n",
        "```\n",
        "[loggers]\n",
        "keys=root,my_logger\n",
        "\n",
        "[handlers]\n",
        "keys=consoleHandler,fileHandler\n",
        "\n",
        "[formatters]\n",
        "keys=defaultFormatter,detailedFormatter\n",
        "\n",
        "[logger_root]\n",
        "level=WARNING\n",
        "handlers=consoleHandler\n",
        "\n",
        "[logger_my_logger]\n",
        "level=DEBUG\n",
        "handlers=consoleHandler,fileHandler\n",
        "qualname=my_logger\n",
        "propagate=0\n",
        "\n",
        "[handler_consoleHandler]\n",
        "class=StreamHandler\n",
        "level=DEBUG\n",
        "formatter=defaultFormatter\n",
        "args=(sys.stdout,)\n",
        "\n",
        "[handler_fileHandler]\n",
        "class=FileHandler\n",
        "level=INFO\n",
        "formatter=detailedFormatter\n",
        "args=('app.log', 'a')\n",
        "\n",
        "[formatter_defaultFormatter]\n",
        "format=%(asctime)s - %(name)s - %(levelname)s - %(message)s\n",
        "\n",
        "[formatter_detailedFormatter]\n",
        "format=%(asctime)s - %(name)s - %(levelname)s - %(message)s - [%(filename)s:%(lineno)d]\n",
        "\n",
        "\n",
        "```\n"
      ],
      "metadata": {
        "id": "Auv58mwVclpr"
      }
    },
    {
      "cell_type": "code",
      "source": [
        "import logging\n",
        "import logging.config\n",
        "\n",
        "# Load configuration from INI file\n",
        "logging.config.fileConfig(\"logging.conf\")\n",
        "\n",
        "# Get logger\n",
        "logger = logging.getLogger(\"my_logger\")\n",
        "\n",
        "# Log messages\n",
        "logger.debug(\"This is a debug message (console only)\")\n",
        "logger.info(\"This is an info message (console and file)\")\n",
        "logger.error(\"This is an error message (console and file)\")\n",
        "\n"
      ],
      "metadata": {
        "colab": {
          "base_uri": "https://localhost:8080/"
        },
        "id": "UwiRa7csdvCs",
        "outputId": "00cc4c35-c918-434b-9232-2d51d71dafbe"
      },
      "execution_count": 12,
      "outputs": [
        {
          "output_type": "stream",
          "name": "stdout",
          "text": [
            "2024-11-30 14:38:11,383 - my_logger - DEBUG - This is a debug message (console only)\n",
            "2024-11-30 14:38:11,386 - my_logger - INFO - This is an info message (console and file)\n",
            "2024-11-30 14:38:11,389 - my_logger - ERROR - This is an error message (console and file)\n"
          ]
        }
      ]
    },
    {
      "cell_type": "markdown",
      "source": [
        "### Checklist for Correct INI Configuration\n",
        "\n",
        "1. Logger Definitions:\n",
        "  - Each logger must be defined in the [loggers] section.\n",
        "  - Every logger needs a corresponding [logger_<name>] section.\n",
        "\n",
        "2. Handlers Definitions:\n",
        "  - Handlers must be defined in the [handlers] section.\n",
        "  - Each handler needs a corresponding [handler_<name>] section.\n",
        "\n",
        "3. Formatters Definitions:\n",
        "  - Formatters must be defined in the [formatters] section.\n",
        "  - Each formatter needs a corresponding [formatter_<name>] section.\n",
        "4. Root Logger:\n",
        "  - The root logger should be defined if you want basic logging functionality.\n"
      ],
      "metadata": {
        "id": "DHu8NZVUfNBP"
      }
    },
    {
      "cell_type": "markdown",
      "source": [
        "### Advantages of Using logging.config\n",
        "\n",
        "1. Separation of Concerns:\n",
        "  - Keeps logging configuration separate from application logic.\n",
        "  - Easier to modify configurations without changing code.\n",
        "\n",
        "2. Scalability:\n",
        "  - Supports complex logging setups for large applications with multiple modules.\n",
        "3. Flexibility:\n",
        "  - You can switch between dictionary-based and file-based configurations based on the use case."
      ],
      "metadata": {
        "id": "l4TVqHe8fjPd"
      }
    },
    {
      "cell_type": "markdown",
      "source": [
        "## Best Practices\n",
        "\n",
        "1. Use Dictionary Configurations (dictConfig):\n",
        "  - When advanced features like filters, custom handlers, or JSON-based configurations are needed.\n",
        "\n",
        "2. Use File Configurations (fileConfig):\n",
        "  - For simpler setups where basic handlers and formatters suffice.\n",
        "\n",
        "3. Modular Configurations:\n",
        "  - Use a logging configuration per module or application and combine them using hierarchical loggers.\n",
        "\n",
        "4. Use Separate Loggers: Use module-level loggers (logging.getLogger(__name__)) for better granularity.\n",
        "\n",
        "5. Set Proper Log Levels: Use DEBUG for development, WARNING or ERROR for production.\n",
        "6. Avoid Excessive Logging: Minimize performance overhead by limiting log messages in critical paths.\n",
        "7. Format Logs for Clarity: Include timestamps, log levels, and contextual information.\n",
        "8. Log Exceptions Properly: Always log stack traces for debugging."
      ],
      "metadata": {
        "id": "aJXIlO74fzhr"
      }
    }
  ]
}