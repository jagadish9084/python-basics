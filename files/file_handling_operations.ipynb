{
  "nbformat": 4,
  "nbformat_minor": 0,
  "metadata": {
    "colab": {
      "provenance": [],
      "toc_visible": true,
      "authorship_tag": "ABX9TyOMm9ZFpBnj/tNfoN96A4wl",
      "include_colab_link": true
    },
    "kernelspec": {
      "name": "python3",
      "display_name": "Python 3"
    },
    "language_info": {
      "name": "python"
    }
  },
  "cells": [
    {
      "cell_type": "markdown",
      "metadata": {
        "id": "view-in-github",
        "colab_type": "text"
      },
      "source": [
        "<a href=\"https://colab.research.google.com/github/jagadish9084/python-basics/blob/main/files/file_handling_operations.ipynb\" target=\"_parent\"><img src=\"https://colab.research.google.com/assets/colab-badge.svg\" alt=\"Open In Colab\"/></a>"
      ]
    },
    {
      "cell_type": "markdown",
      "source": [
        "# File Handling Operations"
      ],
      "metadata": {
        "id": "5bJSDndE3Ui5"
      }
    },
    {
      "cell_type": "markdown",
      "source": [
        "## Open Files"
      ],
      "metadata": {
        "id": "JNRGc80pGkD6"
      }
    },
    {
      "cell_type": "markdown",
      "source": [
        "The open() function in Python is used to open a file and provides a file object, which is used to perform operations like reading, writing, or appending.\n",
        "Important Parameters:\n",
        "1. file\n",
        "  - The name of the file to open (including its path, if not in the current directory).\n",
        "2. mode (optional, default: 'r')\n",
        "  - Specifies the mode in which the file is opened.\n",
        "  - Common modes includes w, r, a, w+, r+, a+, wb, rb, ab\n",
        "\n",
        "Use with: Always use the with statement for better resource management\n",
        "\n",
        "Key Benefits of Using with:\n",
        "\n",
        "1. Automatic File Closure:\n",
        "  - Files are automatically closed when the with block is exited, even if an exception occurs within the block.\n",
        "  - This eliminates the need to manually call file.close(), reducing the risk of leaving files open accidentally.\n",
        "2. Exception Safety:\n",
        "  - If an exception occurs while working with the file, the with statement ensures that the file is closed properly.\n",
        "  - This prevents resource leaks and makes the code more robust.\n",
        "3. Cleaner and More Readable Code:\n",
        "  - Code written with with is simpler and avoids repetitive try-finally structures.\n",
        "4. Handles Context Management for You:\n",
        "  - The with statement is part of Python's context management protocol, which manages setup and teardown actions.\n",
        "  - In the case of file handling, it manages opening and closing the file seamlessly.\n",
        "\n",
        "What Happens Behind the Scenes:\n",
        "When you use with open(...) as file, Python calls:\n",
        "1. __enter__: When entering the with block, the file is opened.\n",
        "2. __exit__: When exiting the with block (even if an exception occurs), the file's __exit__ method is called to close it."
      ],
      "metadata": {
        "id": "axHXkurxGpBY"
      }
    },
    {
      "cell_type": "code",
      "source": [
        "with open('/content/sample_data/sample.txt', 'w') as file:\n",
        "  file.write(\"Hi Guys!\")\n",
        "\n",
        "with open('/content/sample_data/sample.txt', 'r') as file:\n",
        "  print(file.read())\n"
      ],
      "metadata": {
        "colab": {
          "base_uri": "https://localhost:8080/"
        },
        "id": "iUc0dYA_H-Oq",
        "outputId": "5004ed93-fa96-4f13-f669-b68a05a9463e"
      },
      "execution_count": 79,
      "outputs": [
        {
          "output_type": "stream",
          "name": "stdout",
          "text": [
            "Hi Guys!\n"
          ]
        }
      ]
    },
    {
      "cell_type": "markdown",
      "source": [
        "## Writing to a file"
      ],
      "metadata": {
        "id": "873-SUNs5bV0"
      }
    },
    {
      "cell_type": "markdown",
      "source": [
        "Write Only ('w') Mode:\n",
        "1. Create the File if It Doesn't Exist: If the specified file does not already exist, Python will create a new file\n",
        "   \n",
        "2. Overwrite the File if It Exists: If the file already exists, its contents will be completely erased, and the new data will be written from the beginning of the file.\n",
        "\n",
        "3. Write-Only Mode: The file opened in w mode is write-only. You cannot read from the file while it's open in this mode. If you try, Python will raise an io.UnsupportedOperation error."
      ],
      "metadata": {
        "id": "7bRYWIIkDXD4"
      }
    },
    {
      "cell_type": "code",
      "source": [
        "with open('/content/sample_data/sample.txt', 'w') as file:\n",
        "  file.write(\"Hello Bangalore!\\n\")\n",
        "  file.write(\"How are you doing?\\n\")\n",
        "  file.write(\"How is the weather there?\")"
      ],
      "metadata": {
        "id": "kBcdtyet5f4B"
      },
      "execution_count": 80,
      "outputs": []
    },
    {
      "cell_type": "markdown",
      "source": [
        "## Reading a file"
      ],
      "metadata": {
        "id": "vgFh9XO03dNr"
      }
    },
    {
      "cell_type": "markdown",
      "source": [
        "Read Only ('r'):\n",
        "1. Read-Only Access:\n",
        "  - The file can only be read; you cannot write or modify its content.\n",
        "  - If you attempt to write to the file, Python raises an io.UnsupportedOperation error.\n",
        "2. File Must Exist:\n",
        "  - If the file does not exist, Python raises a FileNotFoundError.\n",
        "3. Default Mode:\n",
        "  - If you do not specify a mode while opening a file, it defaults to r."
      ],
      "metadata": {
        "id": "ZiFEuEfSDKzR"
      }
    },
    {
      "cell_type": "code",
      "source": [
        "with open('/content/sample_data/sample.txt', 'r') as file:\n",
        "  print(file.read())"
      ],
      "metadata": {
        "colab": {
          "base_uri": "https://localhost:8080/"
        },
        "id": "L1XjzCC93f4j",
        "outputId": "6a67cb0c-2d87-4d74-92ce-9d1ab5a65fd3"
      },
      "execution_count": 81,
      "outputs": [
        {
          "output_type": "stream",
          "name": "stdout",
          "text": [
            "Hello Bangalore!\n",
            "How are you doing?\n",
            "How is the weather there?\n"
          ]
        }
      ]
    },
    {
      "cell_type": "markdown",
      "source": [
        "## Appending to a File"
      ],
      "metadata": {
        "id": "9P2a8bW96_Lc"
      }
    },
    {
      "cell_type": "markdown",
      "source": [
        "The Appending Only (a) mode:\n",
        "- The file is opened for writing only.\n",
        "- Any data written to the file is added to the end of the file without affecting its existing content.\n",
        "- You cannot read from the file in this mode.\n",
        "- If the file does not exist, it is created automatically.\n",
        "- The file pointer is always at the end of the file. You cannot move the cursor to other positions to overwrite existing data."
      ],
      "metadata": {
        "id": "C6VtEr-tDhYc"
      }
    },
    {
      "cell_type": "code",
      "source": [
        "with open('/content/sample_data/sample.txt', 'a') as file:\n",
        "  file.write(\"\\nI hope everything is fine!\")\n"
      ],
      "metadata": {
        "id": "eHcJ310d7cq4"
      },
      "execution_count": 82,
      "outputs": []
    },
    {
      "cell_type": "markdown",
      "source": [
        "## Read And Write(r+)"
      ],
      "metadata": {
        "id": "6Isrdr4FBTEr"
      }
    },
    {
      "cell_type": "markdown",
      "source": [
        "Read and Write(+r) Mode:\n",
        "1. Read and Write Access:\n",
        "  - You can both read from and write to the file.\n",
        "  - The file pointer is positioned at the beginning of the file.\n",
        "2. File Must Exist:\n",
        "  - If the file does not exist, Python raises a FileNotFoundError.\n",
        "3. Overwrite Existing Content:\n",
        "  - Writing to the file starts from the current position of the file pointer and can overwrite existing content.\n",
        "  - It does not truncate (clear) the file before writing."
      ],
      "metadata": {
        "id": "oOkds7oCMOnH"
      }
    },
    {
      "cell_type": "code",
      "source": [
        "with open('/content/sample_data/sample.txt', 'r+') as file:\n",
        "  print(file.read())\n",
        "  file.write(\"\\nAlright, Take care!\")"
      ],
      "metadata": {
        "id": "YzYtYvNm9cIQ",
        "colab": {
          "base_uri": "https://localhost:8080/"
        },
        "outputId": "eacc631b-69b6-4057-d16d-9f06ced11f99"
      },
      "execution_count": 83,
      "outputs": [
        {
          "output_type": "stream",
          "name": "stdout",
          "text": [
            "Hello Bangalore!\n",
            "How are you doing?\n",
            "How is the weather there?\n",
            "I hope everything is fine!\n"
          ]
        }
      ]
    },
    {
      "cell_type": "markdown",
      "source": [
        "## Write And Read(w+)"
      ],
      "metadata": {
        "id": "MHFO8SjlCdPa"
      }
    },
    {
      "cell_type": "markdown",
      "source": [
        "1. Read and Write Access:\n",
        "  - You can both read from and write to the file.\n",
        "2. File Content Truncation:\n",
        "  - If the file exists, its contents are cleared (truncated) when opened.\n",
        "  - If the file does not exist, it is created.\n",
        "3. File Pointer at the Beginning:\n",
        "  - The file pointer is positioned at the start of the file when opened."
      ],
      "metadata": {
        "id": "qnpcc-kkClcP"
      }
    },
    {
      "cell_type": "code",
      "source": [
        "with open('/content/sample_data/sample.txt', 'w+') as file:\n",
        "  print(file.read()) # This will illustrate that it will truncate the file\n",
        "  file.write(\"Writing something new!\")\n",
        "  file.seek(0) # Move the file pointer to the beginning\n",
        "  print(file.read())"
      ],
      "metadata": {
        "colab": {
          "base_uri": "https://localhost:8080/"
        },
        "id": "mm-e7QgrC70v",
        "outputId": "4d06bc47-fbe5-402d-8927-e9cdb451a8b1"
      },
      "execution_count": 84,
      "outputs": [
        {
          "output_type": "stream",
          "name": "stdout",
          "text": [
            "\n",
            "Writing something new!\n"
          ]
        }
      ]
    },
    {
      "cell_type": "markdown",
      "source": [
        "## Append and Read(a+)"
      ],
      "metadata": {
        "id": "ZTCe--VFEkmD"
      }
    },
    {
      "cell_type": "markdown",
      "source": [
        "1. Append and Read Access:\n",
        "  - You can both read from and append to the file.\n",
        "  - Any data written is added to the end of the file without modifying its existing content.\n",
        "2. File Creation:\n",
        "  - If the file does not exist, it is created.\n",
        "3. File Pointer at the End:\n",
        "  - When the file is opened, the file pointer is positioned at the end of the file, ready for appending.\n",
        "4. Reading Requires Pointer Adjustment:\n",
        "  - To read the file, you need to move the file pointer (e.g., using seek())."
      ],
      "metadata": {
        "id": "kn748yLqE0Xj"
      }
    },
    {
      "cell_type": "code",
      "source": [
        "with open('/content/sample_data/sample.txt', 'a+') as file:\n",
        "  print(file.read())\n",
        "  file.write(\"\\nAppending something new!\")\n",
        "  file.write(\"\\nGood Bye!\")\n",
        "  file.seek(0)\n",
        "  print(file.read())"
      ],
      "metadata": {
        "colab": {
          "base_uri": "https://localhost:8080/"
        },
        "id": "B6uDuhc2FVRq",
        "outputId": "f7d7bea2-4221-4bec-d87b-12a15c5d2611"
      },
      "execution_count": 85,
      "outputs": [
        {
          "output_type": "stream",
          "name": "stdout",
          "text": [
            "\n",
            "Writing something new!\n",
            "Appending something new!\n",
            "Good Bye!\n"
          ]
        }
      ]
    },
    {
      "cell_type": "markdown",
      "source": [
        "## Important methods:\n",
        "\n",
        "1. read(): Reads the entire content of the file.\n",
        "2. read(n): Read n charactor from the file.\n",
        "2. readline(): Read a line from the file\n",
        "3. readlines(): Reads all lines from the file into a list, where each line is an element.\n",
        "4. write(): Write a string to the file. Always ensure the file is opened in a mode that supports writing (w, w+, a, a+, or r+).\n",
        "5. writelines(): Writes a list of strings to the file.\n",
        "6. seek(offset, whence): Moves the file pointer to a specific position.\n",
        "  - offset: Number of bytes to move.\n",
        "  - whence: 0 - Start of file (default), 1 - Current position, 2 - End of file.\n",
        "7. tell(): Returns the current position of the file pointer.\n",
        "8. flush(): Flushes the file's internal buffer to ensure all data is written to the disk.\n",
        "9. close(): Closes the file, freeing up system resources.\n",
        "10. truncate(n): Truncates the file to a specified size."
      ],
      "metadata": {
        "id": "_WA3qCb_K0_P"
      }
    },
    {
      "cell_type": "code",
      "source": [
        "# Read all content\n",
        "with open('/content/sample_data/sample.txt', 'r') as file:\n",
        "  print(file.read())"
      ],
      "metadata": {
        "colab": {
          "base_uri": "https://localhost:8080/"
        },
        "id": "2zhwJFA-M0YS",
        "outputId": "c1fdbd95-0cfe-4119-f4c4-ace17d22f7a5"
      },
      "execution_count": 86,
      "outputs": [
        {
          "output_type": "stream",
          "name": "stdout",
          "text": [
            "Writing something new!\n",
            "Appending something new!\n",
            "Good Bye!\n"
          ]
        }
      ]
    },
    {
      "cell_type": "code",
      "source": [
        "# Read 2 charactor\n",
        "with open('/content/sample_data/sample.txt', 'r') as file:\n",
        "  print(file.read(2))"
      ],
      "metadata": {
        "colab": {
          "base_uri": "https://localhost:8080/"
        },
        "id": "1zm-bGKNNo3z",
        "outputId": "191842da-801d-4118-d59a-bcaeb187b555"
      },
      "execution_count": 87,
      "outputs": [
        {
          "output_type": "stream",
          "name": "stdout",
          "text": [
            "Wr\n"
          ]
        }
      ]
    },
    {
      "cell_type": "code",
      "source": [
        "# Read content line by line\n",
        "with open('/content/sample_data/sample.txt', 'r') as file:\n",
        "  is_end_of_file = False\n",
        "  while not is_end_of_file:\n",
        "    content = file.readline()\n",
        "    if content:\n",
        "      print(content)\n",
        "    else:\n",
        "      is_end_of_file = True\n"
      ],
      "metadata": {
        "colab": {
          "base_uri": "https://localhost:8080/"
        },
        "id": "HSd2oxz8NvFz",
        "outputId": "75db5dd0-8008-4b78-c7fa-73a701f7b784"
      },
      "execution_count": 88,
      "outputs": [
        {
          "output_type": "stream",
          "name": "stdout",
          "text": [
            "Writing something new!\n",
            "\n",
            "Appending something new!\n",
            "\n",
            "Good Bye!\n"
          ]
        }
      ]
    },
    {
      "cell_type": "code",
      "source": [
        "# read lines as list\n",
        "with open('/content/sample_data/sample.txt', 'r') as file:\n",
        "  lines = file.readlines()\n",
        "  for line in lines:\n",
        "    print(line)"
      ],
      "metadata": {
        "colab": {
          "base_uri": "https://localhost:8080/"
        },
        "id": "SRK4dJkyOJw6",
        "outputId": "f62a9624-fa49-4f1e-fc22-a14f8e9a9a33"
      },
      "execution_count": 89,
      "outputs": [
        {
          "output_type": "stream",
          "name": "stdout",
          "text": [
            "Writing something new!\n",
            "\n",
            "Appending something new!\n",
            "\n",
            "Good Bye!\n"
          ]
        }
      ]
    },
    {
      "cell_type": "code",
      "source": [
        "# Write list of string to the files\n",
        "lines = [\"Hello Guys!\", \"\\nHow are you doing!\", \"\\nNice to Meet you!\"]\n",
        "with open('/content/sample_data/greetings.txt', 'w') as file:\n",
        "  file.writelines(lines)\n",
        "\n",
        "with open('/content/sample_data/greetings.txt', 'r') as file:\n",
        "  print(file.read())"
      ],
      "metadata": {
        "colab": {
          "base_uri": "https://localhost:8080/"
        },
        "id": "Ws758V_GQbMZ",
        "outputId": "2400f328-47bd-4768-8004-8f402be9ead3"
      },
      "execution_count": 90,
      "outputs": [
        {
          "output_type": "stream",
          "name": "stdout",
          "text": [
            "Hello Guys!\n",
            "How are you doing!\n",
            "Nice to Meet you!\n"
          ]
        }
      ]
    },
    {
      "cell_type": "code",
      "source": [
        "# Move to the Beginning of the File\n",
        "with open('/content/sample_data/greetings.txt', 'r') as file:\n",
        "  print(file.read())\n",
        "  file.seek(0)\n",
        "  print('--------------------')\n",
        "  print(file.read())"
      ],
      "metadata": {
        "colab": {
          "base_uri": "https://localhost:8080/"
        },
        "id": "RGQr6kwsRQJH",
        "outputId": "689099c6-0523-4b55-a487-a3a48b85e8c5"
      },
      "execution_count": 91,
      "outputs": [
        {
          "output_type": "stream",
          "name": "stdout",
          "text": [
            "Hello Guys!\n",
            "How are you doing!\n",
            "Nice to Meet you!\n",
            "--------------------\n",
            "Hello Guys!\n",
            "How are you doing!\n",
            "Nice to Meet you!\n"
          ]
        }
      ]
    },
    {
      "cell_type": "code",
      "source": [
        "# Skip first 5 charactors\n",
        "with open('/content/sample_data/greetings.txt', 'r') as file:\n",
        "  file.seek(5)\n",
        "  print(file.read())"
      ],
      "metadata": {
        "colab": {
          "base_uri": "https://localhost:8080/"
        },
        "id": "Ud51Par4R8Hn",
        "outputId": "ba4c182d-7883-46ea-f0e2-3b69e251211b"
      },
      "execution_count": 92,
      "outputs": [
        {
          "output_type": "stream",
          "name": "stdout",
          "text": [
            " Guys!\n",
            "How are you doing!\n",
            "Nice to Meet you!\n"
          ]
        }
      ]
    },
    {
      "cell_type": "code",
      "source": [
        "# Get current postion\n",
        "\n",
        "file = open(\"/content/sample_data/greetings.txt\", \"r\")\n",
        "file.seek(7)\n",
        "print(\"Current position:\", file.tell())  # Get the pointer position\n",
        "\n",
        "file.read(5)  # Read 5 characters\n",
        "print(\"After reading 5 chars, position:\", file.tell())\n",
        "\n",
        "file.close()"
      ],
      "metadata": {
        "colab": {
          "base_uri": "https://localhost:8080/"
        },
        "id": "QeUo3LtcWEiz",
        "outputId": "af418d99-8328-4b51-8822-8239286d9101"
      },
      "execution_count": 93,
      "outputs": [
        {
          "output_type": "stream",
          "name": "stdout",
          "text": [
            "Current position: 7\n",
            "After reading 5 chars, position: 12\n"
          ]
        }
      ]
    },
    {
      "cell_type": "markdown",
      "source": [
        "# Binary File Handling"
      ],
      "metadata": {
        "id": "EQ0CksvDLpX4"
      }
    },
    {
      "cell_type": "markdown",
      "source": [
        "Binary file handling in Python allows you to work with non-text files such as images, videos, audio files, or any other file format that contains binary data. It is used when the data cannot be represented as plain text"
      ],
      "metadata": {
        "id": "YF32v6fTMetK"
      }
    },
    {
      "cell_type": "markdown",
      "source": [
        "## Key Concepts:\n",
        "1. Binary Mode:\n",
        "  - Files are opened in binary mode using the mode 'b', such as 'rb' (read binary), 'wb' (write binary), or 'ab' (append binary).\n",
        "  - In binary mode, data is read or written as bytes objects, not strings.\n",
        "2. File Modes for Binary Handling:\n",
        "  - 'rb' : Read a binary file.\n",
        "  - 'wb' : Write to a binary file, overwriting if it exists.\n",
        "  - 'ab' : Append to a binary file.\n",
        "  - 'rb+': Read and write to a binary file.\n",
        "  - 'wb+': Read and write, overwriting the file.\n",
        "  - 'ab+': Read and append to a binary file."
      ],
      "metadata": {
        "id": "oe8rdNW7MlQh"
      }
    },
    {
      "cell_type": "markdown",
      "source": [
        "## Writing to Binary Files:\n"
      ],
      "metadata": {
        "id": "rS1B3YJbNTuT"
      }
    },
    {
      "cell_type": "code",
      "source": [
        "with open('/content/sample_data/sample.bin', 'wb') as file:\n",
        "  content = 'Hello Guys!'\n",
        "  file.write(bytearray(content, encoding='utf-8'))\n",
        ""
      ],
      "metadata": {
        "id": "IfuCZg6bNvm5"
      },
      "execution_count": 94,
      "outputs": []
    },
    {
      "cell_type": "markdown",
      "source": [
        "## Reading from Binary Files"
      ],
      "metadata": {
        "id": "q5dV5MPoPlhT"
      }
    },
    {
      "cell_type": "code",
      "source": [
        "with open('/content/sample_data/sample.bin', 'rb') as file:\n",
        "  content = 'Hello Guys!'\n",
        "  print(file.read())"
      ],
      "metadata": {
        "colab": {
          "base_uri": "https://localhost:8080/"
        },
        "id": "1-6zTs_pPkt5",
        "outputId": "68d4c4ad-c5c0-44fd-ae3e-48462f947222"
      },
      "execution_count": 95,
      "outputs": [
        {
          "output_type": "stream",
          "name": "stdout",
          "text": [
            "b'Hello Guys!'\n"
          ]
        }
      ]
    },
    {
      "cell_type": "markdown",
      "source": [
        "## Appending to Binary Files"
      ],
      "metadata": {
        "id": "y4kVuKgLP5U1"
      }
    },
    {
      "cell_type": "code",
      "source": [
        "with open('/content/sample_data/sample.bin', 'ab') as file:\n",
        "  content = 'Nice to meet you!'\n",
        "  file.write(bytearray(content, encoding='utf-8'))\n",
        "\n",
        "with open('/content/sample_data/sample.bin', 'rb') as file:\n",
        "  content = 'Hello Guys!'\n",
        "  print(file.read())"
      ],
      "metadata": {
        "colab": {
          "base_uri": "https://localhost:8080/"
        },
        "id": "qbpnjekuP8U9",
        "outputId": "e21513b0-87fd-4aa8-df4d-6cb2a0d84bf3"
      },
      "execution_count": 96,
      "outputs": [
        {
          "output_type": "stream",
          "name": "stdout",
          "text": [
            "b'Hello Guys!Nice to meet you!'\n"
          ]
        }
      ]
    },
    {
      "cell_type": "markdown",
      "source": [
        "## Store Image"
      ],
      "metadata": {
        "id": "iB0L4Q0EReRC"
      }
    },
    {
      "cell_type": "code",
      "source": [
        "import requests\n",
        "response = requests.get('https://thumbs.dreamstime.com/z/ominous-vigil-tree-knowledge-good-evil-eden-s-twilight-ai-created-content-design-background-instagram-facebook-324452673.jpg?ct=jpeg')\n",
        "with open('/content/sample_data/image.jpg', 'wb') as file:\n",
        "  file.write(response.content)"
      ],
      "metadata": {
        "id": "xDLhxU4cRkGF"
      },
      "execution_count": 97,
      "outputs": []
    },
    {
      "cell_type": "markdown",
      "source": [
        "## Read Image"
      ],
      "metadata": {
        "id": "P0PswLhATgZi"
      }
    },
    {
      "cell_type": "code",
      "source": [
        "from io import BytesIO\n",
        "from PIL import Image\n",
        "\n",
        "with open('/content/sample_data/image.jpg', 'rb') as file:\n",
        "  image = Image.open(BytesIO(file.read()))\n",
        "  image.save('/content/sample_data/output_image.png')"
      ],
      "metadata": {
        "id": "75Trv0_NTkJn"
      },
      "execution_count": 98,
      "outputs": []
    },
    {
      "cell_type": "markdown",
      "source": [
        "# Serialization and De-serialization"
      ],
      "metadata": {
        "id": "UMxZHa_oW613"
      }
    },
    {
      "cell_type": "markdown",
      "source": [
        "## Overview\n",
        "The pickle module in Python is used for serialization and deserialization of Python objects. Serialization (also called pickling) converts a Python object into a byte stream that can be saved to a file or sent over a network. Deserialization (unpickling) is the process of converting the byte stream back into a Python object.\n",
        "\n"
      ],
      "metadata": {
        "id": "unhs5EIHXmyY"
      }
    },
    {
      "cell_type": "markdown",
      "source": [
        "## Key Functions in pickle:\n",
        "1. pickle.dump(obj, file): Serializes the object a Byte Stream and writes it to the file.\n",
        "2. pickle.load(file): Reads a serialized object from file and reconstructs it.\n",
        "3. pickle.dumps(obj): Serializes obj and returns it as a byte stream.\n",
        "4. pickle.loads(data): Deserializes a byte stream data into a Python object."
      ],
      "metadata": {
        "id": "oMmCVOG_YE0t"
      }
    },
    {
      "cell_type": "markdown",
      "source": [
        "## Saving and Loading a Python Object"
      ],
      "metadata": {
        "id": "howjbiz0gA9Z"
      }
    },
    {
      "cell_type": "code",
      "source": [
        "import pickle\n",
        "data = [1, 2, 3, 4, 5, 6]\n",
        "with open('/content/sample_data/data.pkl','wb') as file:\n",
        "  pickle.dump(data, file)\n",
        "\n",
        "with open('/content/sample_data/data.pkl','rb') as file:\n",
        "  data_retrieved = pickle.load(file)\n",
        "  print(data_retrieved)\n"
      ],
      "metadata": {
        "colab": {
          "base_uri": "https://localhost:8080/"
        },
        "id": "DkuwkeS1gMKM",
        "outputId": "173547d9-5440-41d2-db6a-9803cd5fbd2b"
      },
      "execution_count": 100,
      "outputs": [
        {
          "output_type": "stream",
          "name": "stdout",
          "text": [
            "[1, 2, 3, 4, 5, 6]\n"
          ]
        }
      ]
    },
    {
      "cell_type": "markdown",
      "source": [
        "## Serializing and Deserializing Without Files"
      ],
      "metadata": {
        "id": "J_czoGnqhMio"
      }
    },
    {
      "cell_type": "code",
      "source": [
        "dic = {\"name\": \"Jagadish\", \"email\": \"jagadish9084@gmail.com\"}\n",
        "\n",
        "# Serialize to a Byte Stream\n",
        "serialized_object = pickle.dumps(dic)\n",
        "print(serialized_object)\n",
        "\n",
        "# Deserialize from a Byte Stream\n",
        "deserialized_object = pickle.loads(serialized_object)\n",
        "print(deserialized_object)"
      ],
      "metadata": {
        "colab": {
          "base_uri": "https://localhost:8080/"
        },
        "id": "HBw55KqNhPQw",
        "outputId": "ab40813f-be71-4f54-a5f9-ce821d9869f0"
      },
      "execution_count": 103,
      "outputs": [
        {
          "output_type": "stream",
          "name": "stdout",
          "text": [
            "b'\\x80\\x04\\x958\\x00\\x00\\x00\\x00\\x00\\x00\\x00}\\x94(\\x8c\\x04name\\x94\\x8c\\x08Jagadish\\x94\\x8c\\x05email\\x94\\x8c\\x16jagadish9084@gmail.com\\x94u.'\n",
            "{'name': 'Jagadish', 'email': 'jagadish9084@gmail.com'}\n"
          ]
        }
      ]
    },
    {
      "cell_type": "markdown",
      "source": [
        "## Pickling a Custom Object"
      ],
      "metadata": {
        "id": "KXmmnTdviSM4"
      }
    },
    {
      "cell_type": "code",
      "source": [
        "class Person:\n",
        "  def __init__(self, name, email):\n",
        "    self.name = name\n",
        "    self.email= email\n",
        "\n",
        "person = Person('Jagadish', 'jagadish9084@gmail.com')\n",
        "\n",
        "# Serialize person to a Byte Stream and save it to a file\n",
        "with open('/content/sample_data/person.pkl', 'wb') as file:\n",
        "  pickle.dump(person, file)\n",
        "\n",
        "# Read Byte Stream from a file and Deserialize a Byte Stream to person instance\n",
        "with open('/content/sample_data/person.pkl', 'rb') as file:\n",
        "  person_deserialized = pickle.load(file)\n",
        "print(f\"Person name is {person_deserialized.name}\")\n",
        "print(f\"Person email is {person_deserialized.email}\")"
      ],
      "metadata": {
        "colab": {
          "base_uri": "https://localhost:8080/"
        },
        "id": "_Q3m9gbhiYno",
        "outputId": "f8cc4ae6-3fe0-4732-def2-49b0f17f5991"
      },
      "execution_count": 109,
      "outputs": [
        {
          "output_type": "stream",
          "name": "stdout",
          "text": [
            "Person name is Jagadish\n",
            "Person email is jagadish9084@gmail.com\n"
          ]
        }
      ]
    },
    {
      "cell_type": "markdown",
      "source": [
        "## Pickling a multiple Object"
      ],
      "metadata": {
        "id": "vlbvpiZhj9Cc"
      }
    },
    {
      "cell_type": "code",
      "source": [
        "class Person:\n",
        "  def __init__(self, name, email):\n",
        "    self.name = name\n",
        "    self.email= email\n",
        "\n",
        "person_1 = Person('Jagadish', 'jagadish9084@gmail.com')\n",
        "person_2 = Person('Rahul', 'Rahul@gmail.com')\n",
        "\n",
        "with open('/content/sample_data/multi_person.pkl', 'wb') as file:\n",
        "  pickle.dump(person_1, file)\n",
        "  pickle.dump(person_2, file)\n",
        "\n",
        "with open('/content/sample_data/multi_person.pkl', 'rb') as file:\n",
        "  per_1 = pickle.load(file)\n",
        "  per_2 = pickle.load(file)\n",
        "\n",
        "print(f\"Person 1 name is {per_1.name}\")\n",
        "print(f\"Person 1 email is {per_1.email}\")\n",
        "print(f\"Person 2 name is {per_2.name}\")\n",
        "print(f\"Person 2 email is {per_2.email}\")"
      ],
      "metadata": {
        "colab": {
          "base_uri": "https://localhost:8080/"
        },
        "id": "tx6d0frokBFu",
        "outputId": "62cccc41-ae9d-43df-bd13-42514d5b0365"
      },
      "execution_count": 110,
      "outputs": [
        {
          "output_type": "stream",
          "name": "stdout",
          "text": [
            "Person 1 name is Jagadish\n",
            "Person 1 email is jagadish9084@gmail.com\n",
            "Person 2 name is Rahul\n",
            "Person 2 email is Rahul@gmail.com\n"
          ]
        }
      ]
    },
    {
      "cell_type": "markdown",
      "source": [
        "## Important Notes:\n",
        "\n",
        "1. Binary Files:\n",
        "  - Always use 'wb' and 'rb' modes for writing and reading pickled files.\n",
        "2. Pickle Format:\n",
        "  - The pickled data is specific to Python and not cross-language compatible.\n",
        "3. Security Risks:\n",
        "  - Avoid unpickling data from untrusted sources. Pickled data can execute arbitrary code during deserialization.\n",
        "4. Pickle Protocol:\n",
        "  - pickle.dump() and pickle.dumps() accept a protocol parameter.\n",
        "  - Higher protocol versions are more efficient but may not be compatible with older Python versions.\n",
        "  - Default protocol: Highest available for your Python version.\n",
        "  - Example: pickle.dump(obj, file, protocol=pickle.HIGHEST_PROTOCOL)\n",
        "5. Alternatives to Pickle:\n",
        "  - Use json for text-based serialization when interoperability with other languages is needed.\n",
        "  - Use shelve for simple object storage using key-value pairs.\n"
      ],
      "metadata": {
        "id": "TpqURBWYkxxV"
      }
    }
  ]
}