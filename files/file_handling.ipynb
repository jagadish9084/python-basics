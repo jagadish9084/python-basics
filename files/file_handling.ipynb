{
  "nbformat": 4,
  "nbformat_minor": 0,
  "metadata": {
    "colab": {
      "provenance": [],
      "authorship_tag": "ABX9TyPCvugiOLqdwSLA2lOjxhDk",
      "include_colab_link": true
    },
    "kernelspec": {
      "name": "python3",
      "display_name": "Python 3"
    },
    "language_info": {
      "name": "python"
    }
  },
  "cells": [
    {
      "cell_type": "markdown",
      "metadata": {
        "id": "view-in-github",
        "colab_type": "text"
      },
      "source": [
        "<a href=\"https://colab.research.google.com/github/jagadish9084/python-basics/blob/main/files/file_handling.ipynb\" target=\"_parent\"><img src=\"https://colab.research.google.com/assets/colab-badge.svg\" alt=\"Open In Colab\"/></a>"
      ]
    },
    {
      "cell_type": "markdown",
      "source": [
        "# File Handling Operations"
      ],
      "metadata": {
        "id": "5bJSDndE3Ui5"
      }
    },
    {
      "cell_type": "markdown",
      "source": [
        "## Open Files"
      ],
      "metadata": {
        "id": "JNRGc80pGkD6"
      }
    },
    {
      "cell_type": "markdown",
      "source": [
        "The open() function in Python is used to open a file and provides a file object, which is used to perform operations like reading, writing, or appending.\n",
        "Important Parameters:\n",
        "1. file\n",
        "  - The name of the file to open (including its path, if not in the current directory).\n",
        "2. mode (optional, default: 'r')\n",
        "  - Specifies the mode in which the file is opened.\n",
        "  - Common modes includes w, r, a, w+, r+, a+, wb, rb, ab\n",
        "\n",
        "Use with: Always use the with statement for better resource management\n",
        "\n",
        "Key Benefits of Using with:\n",
        "\n",
        "1. Automatic File Closure:\n",
        "  - Files are automatically closed when the with block is exited, even if an exception occurs within the block.\n",
        "  - This eliminates the need to manually call file.close(), reducing the risk of leaving files open accidentally.\n",
        "2. Exception Safety:\n",
        "  - If an exception occurs while working with the file, the with statement ensures that the file is closed properly.\n",
        "  - This prevents resource leaks and makes the code more robust.\n",
        "3. Cleaner and More Readable Code:\n",
        "  - Code written with with is simpler and avoids repetitive try-finally structures.\n",
        "4. Handles Context Management for You:\n",
        "  - The with statement is part of Python's context management protocol, which manages setup and teardown actions.\n",
        "  - In the case of file handling, it manages opening and closing the file seamlessly.\n",
        "\n",
        "What Happens Behind the Scenes:\n",
        "When you use with open(...) as file, Python calls:\n",
        "1. __enter__: When entering the with block, the file is opened.\n",
        "2. __exit__: When exiting the with block (even if an exception occurs), the file's __exit__ method is called to close it."
      ],
      "metadata": {
        "id": "axHXkurxGpBY"
      }
    },
    {
      "cell_type": "code",
      "source": [
        "with open('/content/sample_data/sample.txt', 'w') as file:\n",
        "  file.write(\"Hi Guys!\")\n",
        "\n",
        "with open('/content/sample_data/sample.txt', 'r') as file:\n",
        "  print(file.read())\n"
      ],
      "metadata": {
        "colab": {
          "base_uri": "https://localhost:8080/"
        },
        "id": "iUc0dYA_H-Oq",
        "outputId": "4db0e6c8-1079-4579-e54f-45feb0ea2c20"
      },
      "execution_count": null,
      "outputs": [
        {
          "output_type": "stream",
          "name": "stdout",
          "text": [
            "Hi Guys!\n"
          ]
        }
      ]
    },
    {
      "cell_type": "markdown",
      "source": [
        "## Writing to a file"
      ],
      "metadata": {
        "id": "873-SUNs5bV0"
      }
    },
    {
      "cell_type": "markdown",
      "source": [
        "Write Only ('w') Mode:\n",
        "1. Create the File if It Doesn't Exist: If the specified file does not already exist, Python will create a new file\n",
        "   \n",
        "2. Overwrite the File if It Exists: If the file already exists, its contents will be completely erased, and the new data will be written from the beginning of the file.\n",
        "\n",
        "3. Write-Only Mode: The file opened in w mode is write-only. You cannot read from the file while it's open in this mode. If you try, Python will raise an io.UnsupportedOperation error."
      ],
      "metadata": {
        "id": "7bRYWIIkDXD4"
      }
    },
    {
      "cell_type": "code",
      "source": [
        "with open('/content/sample_data/sample.txt', 'w') as file:\n",
        "  file.write(\"Hello Bangalore!\\n\")\n",
        "  file.write(\"How are you doing?\\n\")\n",
        "  file.write(\"How is the weather there?\")"
      ],
      "metadata": {
        "id": "kBcdtyet5f4B"
      },
      "execution_count": null,
      "outputs": []
    },
    {
      "cell_type": "markdown",
      "source": [
        "## Reading a file"
      ],
      "metadata": {
        "id": "vgFh9XO03dNr"
      }
    },
    {
      "cell_type": "markdown",
      "source": [
        "Read Only ('r'):\n",
        "1. Read-Only Access:\n",
        "  - The file can only be read; you cannot write or modify its content.\n",
        "  - If you attempt to write to the file, Python raises an io.UnsupportedOperation error.\n",
        "2. File Must Exist:\n",
        "  - If the file does not exist, Python raises a FileNotFoundError.\n",
        "3. Default Mode:\n",
        "  - If you do not specify a mode while opening a file, it defaults to r."
      ],
      "metadata": {
        "id": "ZiFEuEfSDKzR"
      }
    },
    {
      "cell_type": "code",
      "source": [
        "with open('/content/sample_data/sample.txt', 'r') as file:\n",
        "  print(file.read())"
      ],
      "metadata": {
        "colab": {
          "base_uri": "https://localhost:8080/"
        },
        "id": "L1XjzCC93f4j",
        "outputId": "b5182ca3-ef38-4f6a-d246-ba227ebb1ff5"
      },
      "execution_count": null,
      "outputs": [
        {
          "output_type": "stream",
          "name": "stdout",
          "text": [
            "Hello Bangalore!\n",
            "How are you doing?\n",
            "How is the weather there?\n"
          ]
        }
      ]
    },
    {
      "cell_type": "markdown",
      "source": [
        "## Appending to a File"
      ],
      "metadata": {
        "id": "9P2a8bW96_Lc"
      }
    },
    {
      "cell_type": "markdown",
      "source": [
        "The Appending Only (a) mode:\n",
        "- The file is opened for writing only.\n",
        "- Any data written to the file is added to the end of the file without affecting its existing content.\n",
        "- You cannot read from the file in this mode.\n",
        "- If the file does not exist, it is created automatically.\n",
        "- The file pointer is always at the end of the file. You cannot move the cursor to other positions to overwrite existing data."
      ],
      "metadata": {
        "id": "C6VtEr-tDhYc"
      }
    },
    {
      "cell_type": "code",
      "source": [
        "with open('/content/sample_data/sample.txt', 'a') as file:\n",
        "  file.write(\"\\nI hope everything is fine!\")\n"
      ],
      "metadata": {
        "id": "eHcJ310d7cq4"
      },
      "execution_count": null,
      "outputs": []
    },
    {
      "cell_type": "markdown",
      "source": [
        "## Read And Write(r+)"
      ],
      "metadata": {
        "id": "6Isrdr4FBTEr"
      }
    },
    {
      "cell_type": "markdown",
      "source": [
        "Read and Write(+r) Mode:\n",
        "1. Read and Write Access:\n",
        "  - You can both read from and write to the file.\n",
        "  - The file pointer is positioned at the beginning of the file.\n",
        "2. File Must Exist:\n",
        "  - If the file does not exist, Python raises a FileNotFoundError.\n",
        "3. Overwrite Existing Content:\n",
        "  - Writing to the file starts from the current position of the file pointer and can overwrite existing content.\n",
        "  - It does not truncate (clear) the file before writing."
      ],
      "metadata": {
        "id": "oOkds7oCMOnH"
      }
    },
    {
      "cell_type": "code",
      "source": [
        "with open('/content/sample_data/sample.txt', 'r+') as file:\n",
        "  print(file.read())\n",
        "  file.write(\"\\nAlright, Take care!\")"
      ],
      "metadata": {
        "id": "YzYtYvNm9cIQ",
        "colab": {
          "base_uri": "https://localhost:8080/"
        },
        "outputId": "24d346fd-95f4-46ab-cd30-1419b116330e"
      },
      "execution_count": null,
      "outputs": [
        {
          "output_type": "stream",
          "name": "stdout",
          "text": [
            "Hello Bangalore!\n",
            "How are you doing?\n",
            "How is the weather there?\n",
            "I hope everything is fine!\n"
          ]
        }
      ]
    },
    {
      "cell_type": "markdown",
      "source": [
        "## Write And Read(w+)"
      ],
      "metadata": {
        "id": "MHFO8SjlCdPa"
      }
    },
    {
      "cell_type": "markdown",
      "source": [
        "1. Read and Write Access:\n",
        "  - You can both read from and write to the file.\n",
        "2. File Content Truncation:\n",
        "  - If the file exists, its contents are cleared (truncated) when opened.\n",
        "  - If the file does not exist, it is created.\n",
        "3. File Pointer at the Beginning:\n",
        "  - The file pointer is positioned at the start of the file when opened."
      ],
      "metadata": {
        "id": "qnpcc-kkClcP"
      }
    },
    {
      "cell_type": "code",
      "source": [
        "with open('/content/sample_data/sample.txt', 'w+') as file:\n",
        "  print(file.read()) # This will illustrate that it will truncate the file\n",
        "  file.write(\"Writing something new!\")\n",
        "  file.seek(0) # Move the file pointer to the beginning\n",
        "  print(file.read())"
      ],
      "metadata": {
        "colab": {
          "base_uri": "https://localhost:8080/"
        },
        "id": "mm-e7QgrC70v",
        "outputId": "cc5bf91e-dfe0-4064-ded4-0a75c87f0a3e"
      },
      "execution_count": null,
      "outputs": [
        {
          "output_type": "stream",
          "name": "stdout",
          "text": [
            "\n",
            "Writing something new!\n"
          ]
        }
      ]
    },
    {
      "cell_type": "markdown",
      "source": [
        "## Append and Read(a+)"
      ],
      "metadata": {
        "id": "ZTCe--VFEkmD"
      }
    },
    {
      "cell_type": "markdown",
      "source": [
        "1. Append and Read Access:\n",
        "  - You can both read from and append to the file.\n",
        "  - Any data written is added to the end of the file without modifying its existing content.\n",
        "2. File Creation:\n",
        "  - If the file does not exist, it is created.\n",
        "3. File Pointer at the End:\n",
        "  - When the file is opened, the file pointer is positioned at the end of the file, ready for appending.\n",
        "4. Reading Requires Pointer Adjustment:\n",
        "  - To read the file, you need to move the file pointer (e.g., using seek())."
      ],
      "metadata": {
        "id": "kn748yLqE0Xj"
      }
    },
    {
      "cell_type": "code",
      "source": [
        "with open('/content/sample_data/sample.txt', 'a+') as file:\n",
        "  print(file.read())\n",
        "  file.write(\"\\nAppending something new!\")\n",
        "  file.write(\"\\nGood Bye!\")\n",
        "  file.seek(0)\n",
        "  print(file.read())"
      ],
      "metadata": {
        "colab": {
          "base_uri": "https://localhost:8080/"
        },
        "id": "B6uDuhc2FVRq",
        "outputId": "6b98465b-0985-49dc-8a90-3e97ee7ca1f7"
      },
      "execution_count": null,
      "outputs": [
        {
          "output_type": "stream",
          "name": "stdout",
          "text": [
            "\n",
            "Writing something new!\n",
            "Appending something new!\n",
            "Good Bye!\n"
          ]
        }
      ]
    },
    {
      "cell_type": "markdown",
      "source": [
        "## Important methods:\n",
        "\n",
        "1. read(): Reads the entire content of the file.\n",
        "2. read(n): Read n charactor from the file.\n",
        "2. readline(): Read a line from the file\n",
        "3. readlines(): Reads all lines from the file into a list, where each line is an element.\n",
        "4. write(): Write a string to the file. Always ensure the file is opened in a mode that supports writing (w, w+, a, a+, or r+).\n",
        "5. writelines(): Writes a list of strings to the file.\n",
        "6. seek(offset, whence): Moves the file pointer to a specific position.\n",
        "  - offset: Number of bytes to move.\n",
        "  - whence: 0 - Start of file (default), 1 - Current position, 2 - End of file.\n",
        "7. tell(): Returns the current position of the file pointer.\n",
        "8. flush(): Flushes the file's internal buffer to ensure all data is written to the disk.\n",
        "9. close(): Closes the file, freeing up system resources.\n",
        "10. truncate(n): Truncates the file to a specified size."
      ],
      "metadata": {
        "id": "_WA3qCb_K0_P"
      }
    },
    {
      "cell_type": "code",
      "source": [
        "# Read all content\n",
        "with open('/content/sample_data/sample.txt', 'r') as file:\n",
        "  print(file.read())"
      ],
      "metadata": {
        "colab": {
          "base_uri": "https://localhost:8080/"
        },
        "id": "2zhwJFA-M0YS",
        "outputId": "dd0c3ec7-8afa-4ab0-a360-7ee9328e69f0"
      },
      "execution_count": null,
      "outputs": [
        {
          "output_type": "stream",
          "name": "stdout",
          "text": [
            "Writing something new!\n",
            "Appending something new!\n",
            "Good Bye!\n"
          ]
        }
      ]
    },
    {
      "cell_type": "code",
      "source": [
        "# Read 2 charactor\n",
        "with open('/content/sample_data/sample.txt', 'r') as file:\n",
        "  print(file.read(2))"
      ],
      "metadata": {
        "colab": {
          "base_uri": "https://localhost:8080/"
        },
        "id": "1zm-bGKNNo3z",
        "outputId": "646c4175-8b8e-4640-f02d-630bb6739a50"
      },
      "execution_count": null,
      "outputs": [
        {
          "output_type": "stream",
          "name": "stdout",
          "text": [
            "Wr\n"
          ]
        }
      ]
    },
    {
      "cell_type": "code",
      "source": [
        "# Read content line by line\n",
        "with open('/content/sample_data/sample.txt', 'r') as file:\n",
        "  is_end_of_file = False\n",
        "  while not is_end_of_file:\n",
        "    content = file.readline()\n",
        "    if content:\n",
        "      print(content)\n",
        "    else:\n",
        "      is_end_of_file = True\n"
      ],
      "metadata": {
        "colab": {
          "base_uri": "https://localhost:8080/"
        },
        "id": "HSd2oxz8NvFz",
        "outputId": "e7f369df-bb59-4da1-8e53-5207ffdda357"
      },
      "execution_count": null,
      "outputs": [
        {
          "output_type": "stream",
          "name": "stdout",
          "text": [
            "Writing something new!\n",
            "\n",
            "Appending something new!\n",
            "\n",
            "Good Bye!\n"
          ]
        }
      ]
    },
    {
      "cell_type": "code",
      "source": [
        "# read lines as list\n",
        "with open('/content/sample_data/sample.txt', 'r') as file:\n",
        "  lines = file.readlines()\n",
        "  for line in lines:\n",
        "    print(line)"
      ],
      "metadata": {
        "colab": {
          "base_uri": "https://localhost:8080/"
        },
        "id": "SRK4dJkyOJw6",
        "outputId": "2d288efe-da74-4d1f-bfcb-15822f18af43"
      },
      "execution_count": null,
      "outputs": [
        {
          "output_type": "stream",
          "name": "stdout",
          "text": [
            "Writing something new!\n",
            "\n",
            "Appending something new!\n",
            "\n",
            "Good Bye!\n"
          ]
        }
      ]
    },
    {
      "cell_type": "code",
      "source": [
        "# Write list of string to the files\n",
        "lines = [\"Hello Guys!\", \"\\nHow are you doing!\", \"\\nNice to Meet you!\"]\n",
        "with open('/content/sample_data/greetings.txt', 'w') as file:\n",
        "  file.writelines(lines)\n",
        "\n",
        "with open('/content/sample_data/greetings.txt', 'r') as file:\n",
        "  print(file.read())"
      ],
      "metadata": {
        "colab": {
          "base_uri": "https://localhost:8080/"
        },
        "id": "Ws758V_GQbMZ",
        "outputId": "3147e409-eaa6-4d5b-b44e-d05523e682ff"
      },
      "execution_count": null,
      "outputs": [
        {
          "output_type": "stream",
          "name": "stdout",
          "text": [
            "Hello Guys!\n",
            "How are you doing!\n",
            "Nice to Meet you!\n"
          ]
        }
      ]
    },
    {
      "cell_type": "code",
      "source": [
        "# Move to the Beginning of the File\n",
        "with open('/content/sample_data/greetings.txt', 'r') as file:\n",
        "  print(file.read())\n",
        "  file.seek(0)\n",
        "  print('--------------------')\n",
        "  print(file.read())"
      ],
      "metadata": {
        "colab": {
          "base_uri": "https://localhost:8080/"
        },
        "id": "RGQr6kwsRQJH",
        "outputId": "08585ca3-27e4-4d6a-bb57-91a7c727c3db"
      },
      "execution_count": null,
      "outputs": [
        {
          "output_type": "stream",
          "name": "stdout",
          "text": [
            "Hello Guys!\n",
            "How are you doing!\n",
            "Nice to Meet you!\n",
            "--------------------\n",
            "Hello Guys!\n",
            "How are you doing!\n",
            "Nice to Meet you!\n"
          ]
        }
      ]
    },
    {
      "cell_type": "code",
      "source": [
        "# Skip first 5 charactors\n",
        "with open('/content/sample_data/greetings.txt', 'r') as file:\n",
        "  file.seek(5)\n",
        "  print(file.read())"
      ],
      "metadata": {
        "colab": {
          "base_uri": "https://localhost:8080/"
        },
        "id": "Ud51Par4R8Hn",
        "outputId": "5509dadc-fdcf-4833-ab09-2293d5a02c31"
      },
      "execution_count": null,
      "outputs": [
        {
          "output_type": "stream",
          "name": "stdout",
          "text": [
            " Guys!\n",
            "How are you doing!\n",
            "Nice to Meet you!\n"
          ]
        }
      ]
    },
    {
      "cell_type": "code",
      "source": [
        "# Get current postion\n",
        "\n",
        "file = open(\"/content/sample_data/greetings.txt\", \"r\")\n",
        "file.seek(7)\n",
        "print(\"Current position:\", file.tell())  # Get the pointer position\n",
        "\n",
        "file.read(5)  # Read 5 characters\n",
        "print(\"After reading 5 chars, position:\", file.tell())\n",
        "\n",
        "file.close()"
      ],
      "metadata": {
        "colab": {
          "base_uri": "https://localhost:8080/"
        },
        "id": "QeUo3LtcWEiz",
        "outputId": "df8ad268-fdba-4e6e-f630-1c48ca1df32e"
      },
      "execution_count": null,
      "outputs": [
        {
          "output_type": "stream",
          "name": "stdout",
          "text": [
            "Current position: 7\n",
            "After reading 5 chars, position: 12\n"
          ]
        }
      ]
    }
  ]
}